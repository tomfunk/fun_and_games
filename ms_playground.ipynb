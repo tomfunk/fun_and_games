{
 "cells": [
  {
   "cell_type": "code",
   "execution_count": 32,
   "id": "37474969-e894-45b5-beb8-62fc522afb2e",
   "metadata": {},
   "outputs": [],
   "source": [
    "import envs\n",
    "# import agents\n",
    "# import random\n",
    "import numpy as np"
   ]
  },
  {
   "cell_type": "code",
   "execution_count": 14,
   "id": "e4006015-1673-4071-83bd-a8c4d1e5df00",
   "metadata": {},
   "outputs": [],
   "source": [
    "env = envs.MinesweeperEnvBaby(flatten=False)"
   ]
  },
  {
   "cell_type": "markdown",
   "id": "9de0f826-8e5b-4cec-8fc2-f1045f0d5e97",
   "metadata": {
    "tags": []
   },
   "source": [
    "# Baby"
   ]
  },
  {
   "cell_type": "code",
   "execution_count": 18,
   "id": "3039af12-099b-48fb-b5f6-dfc74a033053",
   "metadata": {},
   "outputs": [],
   "source": [
    "from stable_baselines3 import PPO, A2C\n",
    "env = envs.MinesweeperEnvBaby()\n",
    "model = PPO.load('ms_ppo0', env=env)"
   ]
  },
  {
   "cell_type": "code",
   "execution_count": 31,
   "id": "089bf0ef-0bd6-48c0-af27-e9d4e5319f62",
   "metadata": {},
   "outputs": [
    {
     "name": "stdout",
     "output_type": "stream",
     "text": [
      "[[1. 1. 2. 1. 0.]\n",
      " [1. 9. 2. 9. 0.]\n",
      " [2. 2. 3. 1. 0.]\n",
      " [2. 9. 2. 0. 0.]\n",
      " [0. 9. 0. 0. 0.]]\n",
      "attempt 25\n",
      "reward -1\n",
      "total reward 44\n",
      "{'attempt': 25, 'remaining': 2.0, 'revealed': 19.0, 'hit': 'uncovered'} True\n",
      "3\n",
      "[[1. 9. 2. 1. 0.]\n",
      " [1. 9. 2. 9. 0.]\n",
      " [2. 9. 3. 1. 0.]\n",
      " [2. 9. 2. 0. 0.]\n",
      " [0. 9. 0. 0. 0.]]\n"
     ]
    }
   ],
   "source": [
    "observation = env.reset()\n",
    "done = False\n",
    "rew = 0\n",
    "action, _state = model.predict(observation, deterministic=False)\n",
    "observation, reward, done, info = env.step(action)\n",
    "print(env.observation[1:-1,1:-1])\n",
    "\n",
    "while not done:\n",
    "    action, _state = model.predict(observation, deterministic=False)\n",
    "    observation, reward, done, info = env.step(action)\n",
    "    # env.print_render()\n",
    "    # print(action, reward, (~env.display[1:-1,1:-1].astype(bool)).sum(), env.bombs)\n",
    "    rew += reward\n",
    "print('attempt', env.attempt)\n",
    "print('reward', reward)\n",
    "print('total reward', rew)\n",
    "print(info, done)\n",
    "print((~env.display[1:-1,1:-1].astype(bool)).sum())\n",
    "env.print_render()\n"
   ]
  },
  {
   "cell_type": "code",
   "execution_count": 12,
   "id": "cef5a066-f09b-4614-8cbf-ccb1bea32a5f",
   "metadata": {},
   "outputs": [
    {
     "name": "stdout",
     "output_type": "stream",
     "text": [
      "average wins: 0.85\n",
      "average attempts: 11.14\n",
      "average remaining: 0.18\n",
      "CPU times: user 717 ms, sys: 5.36 ms, total: 722 ms\n",
      "Wall time: 730 ms\n"
     ]
    }
   ],
   "source": [
    "%%time\n",
    "remainings = []\n",
    "attempts = []\n",
    "wins = []\n",
    "for _ in range(100):\n",
    "    observation = env.reset()\n",
    "    done = False\n",
    "    while not done:\n",
    "        action, _state = model.predict(observation, deterministic=True)\n",
    "        # print(env._translate_action(action))\n",
    "        # env.print_render()\n",
    "        observation, reward, done, info = env.step(action)\n",
    "    attempts.append(info[\"attempt\"])\n",
    "    remainings.append(info[\"remaining\"])\n",
    "    wins.append(info[\"remaining\"] == 0)\n",
    "print(f'average wins: {np.mean(wins)}')\n",
    "print(f'average attempts: {np.mean(attempts)}')\n",
    "print(f'average remaining: {np.mean(remainings)}')"
   ]
  },
  {
   "cell_type": "markdown",
   "id": "a0b79c87-e22d-41ae-85d4-e7f12fb89bd7",
   "metadata": {
    "tags": []
   },
   "source": [
    "# Beginner"
   ]
  },
  {
   "cell_type": "code",
   "execution_count": 53,
   "id": "4301bb83-2d4e-43ee-8890-75d7009f75c4",
   "metadata": {},
   "outputs": [],
   "source": [
    "from stable_baselines3 import PPO, A2C\n",
    "env = envs.MinesweeperEnvBeginner()\n",
    "model = PPO.load('ms_beginner_ppo1', env=env)"
   ]
  },
  {
   "cell_type": "code",
   "execution_count": 55,
   "id": "2dab6df1-18e6-4779-86a3-ad555fcadb09",
   "metadata": {},
   "outputs": [
    {
     "name": "stdout",
     "output_type": "stream",
     "text": [
      "average wins: 0.402\n",
      "average attempts: 28.13\n",
      "average remaining: 2.758\n",
      "CPU times: user 15.1 s, sys: 23.3 ms, total: 15.1 s\n",
      "Wall time: 15.1 s\n"
     ]
    }
   ],
   "source": [
    "%%time\n",
    "remainings = []\n",
    "attempts = []\n",
    "wins = []\n",
    "for _ in range(500):\n",
    "    observation = env.reset()\n",
    "    done = False\n",
    "    while not done:\n",
    "        action, _state = model.predict(observation, deterministic=True)\n",
    "        # print(env._translate_action(action))\n",
    "        # env.print_render()\n",
    "        observation, reward, done, info = env.step(action)\n",
    "    attempts.append(info[\"attempt\"])\n",
    "    remainings.append(info[\"remaining\"])\n",
    "    wins.append(info[\"remaining\"] == 0)\n",
    "print(f'average wins: {np.mean(wins)}')\n",
    "print(f'average attempts: {np.mean(attempts)}')\n",
    "print(f'average remaining: {np.mean(remainings)}')"
   ]
  },
  {
   "cell_type": "code",
   "execution_count": 56,
   "id": "46762682-65ea-4e53-a31c-b30a1014531c",
   "metadata": {},
   "outputs": [],
   "source": [
    "env = envs.MinesweeperEnvBeginner()\n",
    "model = PPO.load('ms_beginner_ppo2', env=env)"
   ]
  },
  {
   "cell_type": "code",
   "execution_count": 57,
   "id": "a8c842e9-6c0b-462a-a619-bf11aaab542b",
   "metadata": {},
   "outputs": [
    {
     "name": "stdout",
     "output_type": "stream",
     "text": [
      "average wins: 0.6\n",
      "average attempts: 22.5\n",
      "average remaining: 2.546\n",
      "CPU times: user 12.1 s, sys: 12 ms, total: 12.1 s\n",
      "Wall time: 12.1 s\n"
     ]
    }
   ],
   "source": [
    "%%time\n",
    "remainings = []\n",
    "attempts = []\n",
    "wins = []\n",
    "for _ in range(500):\n",
    "    observation = env.reset()\n",
    "    done = False\n",
    "    while not done:\n",
    "        action, _state = model.predict(observation, deterministic=True)\n",
    "        # print(env._translate_action(action))\n",
    "        # env.print_render()\n",
    "        observation, reward, done, info = env.step(action)\n",
    "    attempts.append(info[\"attempt\"])\n",
    "    remainings.append(info[\"remaining\"])\n",
    "    wins.append(info[\"remaining\"] == 0)\n",
    "print(f'average wins: {np.mean(wins)}')\n",
    "print(f'average attempts: {np.mean(attempts)}')\n",
    "print(f'average remaining: {np.mean(remainings)}')"
   ]
  },
  {
   "cell_type": "code",
   "execution_count": 58,
   "id": "a77f103b-edb9-42bc-b2a7-861706d53555",
   "metadata": {},
   "outputs": [],
   "source": [
    "env = envs.MinesweeperEnvBeginner()\n",
    "model = PPO.load('ms_beginner_ppo3', env=env)"
   ]
  },
  {
   "cell_type": "code",
   "execution_count": 59,
   "id": "5de6e902-3103-4076-8be9-7abb75da5b84",
   "metadata": {},
   "outputs": [
    {
     "name": "stdout",
     "output_type": "stream",
     "text": [
      "average wins: 0.684\n",
      "average attempts: 20.928\n",
      "average remaining: 1.892\n",
      "CPU times: user 11.3 s, sys: 27.9 ms, total: 11.3 s\n",
      "Wall time: 11.3 s\n"
     ]
    }
   ],
   "source": [
    "%%time\n",
    "remainings = []\n",
    "attempts = []\n",
    "wins = []\n",
    "for _ in range(500):\n",
    "    observation = env.reset()\n",
    "    done = False\n",
    "    while not done:\n",
    "        action, _state = model.predict(observation, deterministic=True)\n",
    "        # print(env._translate_action(action))\n",
    "        # env.print_render()\n",
    "        observation, reward, done, info = env.step(action)\n",
    "    attempts.append(info[\"attempt\"])\n",
    "    remainings.append(info[\"remaining\"])\n",
    "    wins.append(info[\"remaining\"] == 0)\n",
    "print(f'average wins: {np.mean(wins)}')\n",
    "print(f'average attempts: {np.mean(attempts)}')\n",
    "print(f'average remaining: {np.mean(remainings)}')"
   ]
  },
  {
   "cell_type": "code",
   "execution_count": null,
   "id": "db122b92-4e3c-4c9a-a1ab-78948493fd60",
   "metadata": {},
   "outputs": [],
   "source": []
  }
 ],
 "metadata": {
  "kernelspec": {
   "display_name": "Python 3 (ipykernel)",
   "language": "python",
   "name": "python3"
  },
  "language_info": {
   "codemirror_mode": {
    "name": "ipython",
    "version": 3
   },
   "file_extension": ".py",
   "mimetype": "text/x-python",
   "name": "python",
   "nbconvert_exporter": "python",
   "pygments_lexer": "ipython3",
   "version": "3.7.9"
  },
  "vscode": {
   "interpreter": {
    "hash": "e17cfc89ef70aefe0575981488445c37b4ad54873ac1467bcfea8c7f0f258056"
   }
  }
 },
 "nbformat": 4,
 "nbformat_minor": 5
}
