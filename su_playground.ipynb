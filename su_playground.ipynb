{
 "cells": [
  {
   "cell_type": "code",
   "execution_count": 1,
   "id": "37474969-e894-45b5-beb8-62fc522afb2e",
   "metadata": {},
   "outputs": [],
   "source": [
    "import envs\n",
    "# import agents\n",
    "# import random\n",
    "import numpy as np"
   ]
  },
  {
   "cell_type": "code",
   "execution_count": 2,
   "id": "e4006015-1673-4071-83bd-a8c4d1e5df00",
   "metadata": {},
   "outputs": [],
   "source": [
    "env = envs.SudokuEnv2(flatten=False)"
   ]
  },
  {
   "cell_type": "code",
   "execution_count": 3,
   "id": "aa423276-75b3-454c-b9d0-a316f9f4b44b",
   "metadata": {},
   "outputs": [
    {
     "data": {
      "text/plain": [
       "array([[[2., 8., 4., 0., 9., 7., 0., 6., 5.],\n",
       "        [0., 9., 0., 0., 0., 0., 0., 0., 0.],\n",
       "        [7., 0., 6., 0., 0., 0., 9., 4., 3.],\n",
       "        [0., 0., 9., 7., 1., 0., 4., 5., 0.],\n",
       "        [5., 4., 3., 0., 2., 6., 0., 1., 9.],\n",
       "        [0., 0., 7., 0., 0., 0., 2., 3., 0.],\n",
       "        [4., 0., 0., 0., 0., 8., 0., 9., 1.],\n",
       "        [1., 0., 8., 5., 4., 9., 6., 2., 0.],\n",
       "        [0., 6., 5., 0., 0., 2., 3., 0., 0.]],\n",
       "\n",
       "       [[1., 1., 1., 0., 1., 1., 0., 1., 1.],\n",
       "        [0., 1., 0., 0., 0., 0., 0., 0., 0.],\n",
       "        [1., 0., 1., 0., 0., 0., 1., 1., 1.],\n",
       "        [0., 0., 1., 1., 1., 0., 1., 1., 0.],\n",
       "        [1., 1., 1., 0., 1., 1., 0., 1., 1.],\n",
       "        [0., 0., 1., 0., 0., 0., 1., 1., 0.],\n",
       "        [1., 0., 0., 0., 0., 1., 0., 1., 1.],\n",
       "        [1., 0., 1., 1., 1., 1., 1., 1., 0.],\n",
       "        [0., 1., 1., 0., 0., 1., 1., 0., 0.]],\n",
       "\n",
       "       [[0., 0., 0., 0., 0., 0., 0., 0., 0.],\n",
       "        [0., 0., 0., 0., 0., 0., 0., 0., 0.],\n",
       "        [0., 0., 0., 0., 0., 0., 0., 0., 0.],\n",
       "        [1., 0., 0., 0., 0., 0., 0., 0., 0.],\n",
       "        [0., 0., 0., 0., 0., 0., 0., 0., 0.],\n",
       "        [0., 0., 0., 0., 0., 0., 0., 0., 0.],\n",
       "        [0., 0., 0., 0., 0., 0., 0., 0., 0.],\n",
       "        [0., 0., 0., 0., 0., 0., 0., 0., 0.],\n",
       "        [0., 0., 0., 0., 0., 0., 0., 0., 0.]]])"
      ]
     },
     "execution_count": 3,
     "metadata": {},
     "output_type": "execute_result"
    }
   ],
   "source": [
    "env.reset()"
   ]
  },
  {
   "cell_type": "code",
   "execution_count": 4,
   "id": "58a42793-b4c2-42dc-8212-6ad9213e3735",
   "metadata": {},
   "outputs": [
    {
     "data": {
      "text/plain": [
       "38"
      ]
     },
     "execution_count": 4,
     "metadata": {},
     "output_type": "execute_result"
    }
   ],
   "source": [
    "len(env.pairs)"
   ]
  },
  {
   "cell_type": "code",
   "execution_count": 5,
   "id": "f5b82066-b3b2-4fcd-b983-ce83df83cecb",
   "metadata": {},
   "outputs": [
    {
     "data": {
      "text/plain": [
       "38"
      ]
     },
     "execution_count": 5,
     "metadata": {},
     "output_type": "execute_result"
    }
   ],
   "source": [
    "(env.start == 0).sum()"
   ]
  },
  {
   "cell_type": "code",
   "execution_count": 6,
   "id": "befb887e-811b-4485-bc75-29f0bdf7a801",
   "metadata": {},
   "outputs": [
    {
     "data": {
      "text/plain": [
       "array([[2, 8, 4, 3, 9, 7, 1, 6, 5],\n",
       "       [3, 9, 1, 4, 6, 5, 8, 7, 2],\n",
       "       [7, 5, 6, 2, 8, 1, 9, 4, 3],\n",
       "       [8, 2, 9, 7, 1, 3, 4, 5, 6],\n",
       "       [5, 4, 3, 8, 2, 6, 7, 1, 9],\n",
       "       [6, 1, 7, 9, 5, 4, 2, 3, 8],\n",
       "       [4, 7, 2, 6, 3, 8, 5, 9, 1],\n",
       "       [1, 3, 8, 5, 4, 9, 6, 2, 7],\n",
       "       [9, 6, 5, 1, 7, 2, 3, 8, 4]])"
      ]
     },
     "execution_count": 6,
     "metadata": {},
     "output_type": "execute_result"
    }
   ],
   "source": [
    "env.solution"
   ]
  },
  {
   "cell_type": "code",
   "execution_count": 10,
   "id": "516bdeb7-854c-4e03-8a0c-e568a5f334c8",
   "metadata": {},
   "outputs": [
    {
     "data": {
      "text/plain": [
       "(array([[[4., 3., 9., 6., 5., 8., 1., 2., 7.],\n",
       "         [1., 7., 8., 3., 2., 4., 6., 5., 9.],\n",
       "         [5., 6., 2., 9., 7., 1., 4., 3., 8.],\n",
       "         [6., 1., 3., 8., 9., 2., 7., 4., 5.],\n",
       "         [8., 4., 5., 7., 1., 6., 3., 9., 2.],\n",
       "         [2., 9., 7., 5., 4., 3., 8., 6., 1.],\n",
       "         [9., 8., 4., 2., 6., 7., 5., 1., 3.],\n",
       "         [3., 5., 6., 1., 8., 9., 2., 7., 4.],\n",
       "         [7., 2., 1., 4., 3., 5., 9., 8., 6.]],\n",
       " \n",
       "        [[1., 0., 1., 0., 0., 0., 0., 1., 1.],\n",
       "         [0., 0., 1., 1., 0., 1., 0., 0., 1.],\n",
       "         [1., 1., 0., 0., 1., 1., 1., 0., 1.],\n",
       "         [1., 1., 1., 1., 1., 1., 0., 0., 0.],\n",
       "         [1., 1., 0., 1., 0., 0., 0., 0., 1.],\n",
       "         [0., 0., 1., 1., 1., 1., 0., 1., 0.],\n",
       "         [0., 0., 0., 1., 1., 0., 0., 0., 0.],\n",
       "         [1., 0., 0., 0., 0., 0., 0., 0., 1.],\n",
       "         [0., 1., 0., 0., 1., 0., 0., 0., 1.]],\n",
       " \n",
       "        [[0., 0., 0., 0., 0., 0., 0., 0., 0.],\n",
       "         [0., 0., 0., 0., 0., 0., 0., 0., 0.],\n",
       "         [0., 0., 0., 0., 0., 0., 0., 0., 0.],\n",
       "         [0., 0., 0., 0., 0., 0., 0., 0., 0.],\n",
       "         [0., 0., 0., 0., 0., 0., 0., 0., 0.],\n",
       "         [0., 0., 0., 0., 0., 0., 0., 0., 0.],\n",
       "         [0., 1., 0., 0., 0., 0., 0., 0., 0.],\n",
       "         [0., 0., 0., 0., 0., 0., 0., 0., 0.],\n",
       "         [0., 0., 0., 0., 0., 0., 0., 0., 0.]]]),\n",
       " 1000,\n",
       " True,\n",
       " {'attempt': 46, 'square_coord': (6, 1)})"
      ]
     },
     "execution_count": 10,
     "metadata": {},
     "output_type": "execute_result"
    }
   ],
   "source": [
    "done = False\n",
    "observation = env.reset()\n",
    "while not done:\n",
    "    observation, reward, done, info = env.step(env.solution[env.current_square_coord])\n",
    "observation, reward, done, info"
   ]
  },
  {
   "cell_type": "code",
   "execution_count": 14,
   "id": "30bf3658-24c1-49ca-9a94-82fdf897a845",
   "metadata": {},
   "outputs": [
    {
     "data": {
      "text/plain": [
       "45"
      ]
     },
     "execution_count": 14,
     "metadata": {},
     "output_type": "execute_result"
    }
   ],
   "source": [
    "(env.start == 0).sum()"
   ]
  },
  {
   "cell_type": "code",
   "execution_count": 12,
   "id": "1bfb11f1-71a9-445b-a754-0b904edc80b3",
   "metadata": {},
   "outputs": [
    {
     "data": {
      "text/plain": [
       "45"
      ]
     },
     "execution_count": 12,
     "metadata": {},
     "output_type": "execute_result"
    }
   ],
   "source": [
    "len(env.pairs)"
   ]
  },
  {
   "cell_type": "code",
   "execution_count": 19,
   "id": "42c7c0b6-0c7a-4917-b857-481afa5ab07e",
   "metadata": {},
   "outputs": [
    {
     "data": {
      "text/plain": [
       "array([[[6., 7., 5., 8., 3., 4., 1., 9., 2.],\n",
       "        [4., 1., 9., 6., 2., 5., 3., 8., 7.],\n",
       "        [8., 3., 2., 7., 9., 1., 4., 6., 5.],\n",
       "        [2., 5., 1., 9., 6., 8., 7., 4., 3.],\n",
       "        [3., 9., 4., 1., 7., 2., 6., 5., 8.],\n",
       "        [7., 8., 6., 5., 4., 3., 9., 2., 1.],\n",
       "        [5., 4., 7., 3., 8., 9., 2., 1., 6.],\n",
       "        [1., 2., 3., 4., 5., 6., 8., 7., 9.],\n",
       "        [9., 6., 8., 2., 1., 7., 5., 3., 4.]],\n",
       "\n",
       "       [[0., 1., 1., 1., 1., 0., 0., 0., 1.],\n",
       "        [0., 1., 1., 1., 1., 1., 1., 0., 0.],\n",
       "        [1., 0., 1., 0., 0., 0., 1., 1., 1.],\n",
       "        [0., 0., 1., 1., 0., 0., 0., 0., 0.],\n",
       "        [0., 1., 1., 1., 0., 0., 1., 0., 0.],\n",
       "        [1., 1., 1., 0., 0., 1., 1., 0., 1.],\n",
       "        [1., 0., 1., 0., 0., 0., 0., 0., 0.],\n",
       "        [1., 0., 1., 1., 0., 1., 0., 1., 0.],\n",
       "        [0., 1., 1., 0., 1., 0., 1., 0., 0.]],\n",
       "\n",
       "       [[0., 0., 0., 0., 0., 0., 0., 0., 0.],\n",
       "        [0., 0., 0., 0., 0., 0., 0., 0., 0.],\n",
       "        [0., 0., 0., 0., 0., 0., 0., 0., 0.],\n",
       "        [1., 0., 0., 0., 0., 0., 0., 0., 0.],\n",
       "        [0., 0., 0., 0., 0., 0., 0., 0., 0.],\n",
       "        [0., 0., 0., 0., 0., 0., 0., 0., 0.],\n",
       "        [0., 0., 0., 0., 0., 0., 0., 0., 0.],\n",
       "        [0., 0., 0., 0., 0., 0., 0., 0., 0.],\n",
       "        [0., 0., 0., 0., 0., 0., 0., 0., 0.]]])"
      ]
     },
     "execution_count": 19,
     "metadata": {},
     "output_type": "execute_result"
    }
   ],
   "source": [
    "observation"
   ]
  },
  {
   "cell_type": "code",
   "execution_count": 10,
   "id": "3039af12-099b-48fb-b5f6-dfc74a033053",
   "metadata": {},
   "outputs": [],
   "source": [
    "from stable_baselines3 import PPO, A2C\n",
    "env = envs.MinesweeperEnvBaby()\n",
    "model = PPO.load('ms_ppo0', env=env)"
   ]
  },
  {
   "cell_type": "code",
   "execution_count": 31,
   "id": "089bf0ef-0bd6-48c0-af27-e9d4e5319f62",
   "metadata": {},
   "outputs": [
    {
     "name": "stdout",
     "output_type": "stream",
     "text": [
      "[[1. 1. 2. 1. 0.]\n",
      " [1. 9. 2. 9. 0.]\n",
      " [2. 2. 3. 1. 0.]\n",
      " [2. 9. 2. 0. 0.]\n",
      " [0. 9. 0. 0. 0.]]\n",
      "attempt 25\n",
      "reward -1\n",
      "total reward 44\n",
      "{'attempt': 25, 'remaining': 2.0, 'revealed': 19.0, 'hit': 'uncovered'} True\n",
      "3\n",
      "[[1. 9. 2. 1. 0.]\n",
      " [1. 9. 2. 9. 0.]\n",
      " [2. 9. 3. 1. 0.]\n",
      " [2. 9. 2. 0. 0.]\n",
      " [0. 9. 0. 0. 0.]]\n"
     ]
    }
   ],
   "source": [
    "observation = env.reset()\n",
    "done = False\n",
    "rew = 0\n",
    "action, _state = model.predict(observation, deterministic=False)\n",
    "observation, reward, done, info = env.step(action)\n",
    "print(env.observation[1:-1,1:-1])\n",
    "\n",
    "while not done:\n",
    "    action, _state = model.predict(observation, deterministic=False)\n",
    "    observation, reward, done, info = env.step(action)\n",
    "    # env.print_render()\n",
    "    # print(action, reward, (~env.display[1:-1,1:-1].astype(bool)).sum(), env.bombs)\n",
    "    rew += reward\n",
    "print('attempt', env.attempt)\n",
    "print('reward', reward)\n",
    "print('total reward', rew)\n",
    "print(info, done)\n",
    "print((~env.display[1:-1,1:-1].astype(bool)).sum())\n",
    "env.print_render()\n"
   ]
  },
  {
   "cell_type": "code",
   "execution_count": 12,
   "id": "cef5a066-f09b-4614-8cbf-ccb1bea32a5f",
   "metadata": {},
   "outputs": [
    {
     "name": "stdout",
     "output_type": "stream",
     "text": [
      "average wins: 0.85\n",
      "average attempts: 11.14\n",
      "average remaining: 0.18\n",
      "CPU times: user 717 ms, sys: 5.36 ms, total: 722 ms\n",
      "Wall time: 730 ms\n"
     ]
    }
   ],
   "source": [
    "%%time\n",
    "remainings = []\n",
    "attempts = []\n",
    "wins = []\n",
    "for _ in range(100):\n",
    "    observation = env.reset()\n",
    "    done = False\n",
    "    while not done:\n",
    "        action, _state = model.predict(observation, deterministic=True)\n",
    "        # print(env._translate_action(action))\n",
    "        # env.print_render()\n",
    "        observation, reward, done, info = env.step(action)\n",
    "    attempts.append(info[\"attempt\"])\n",
    "    remainings.append(info[\"remaining\"])\n",
    "    wins.append(info[\"remaining\"] == 0)\n",
    "print(f'average wins: {np.mean(wins)}')\n",
    "print(f'average attempts: {np.mean(attempts)}')\n",
    "print(f'average remaining: {np.mean(remainings)}')"
   ]
  },
  {
   "cell_type": "markdown",
   "id": "a0b79c87-e22d-41ae-85d4-e7f12fb89bd7",
   "metadata": {
    "tags": []
   },
   "source": [
    "# Beginner"
   ]
  },
  {
   "cell_type": "code",
   "execution_count": 34,
   "id": "4301bb83-2d4e-43ee-8890-75d7009f75c4",
   "metadata": {},
   "outputs": [],
   "source": [
    "from stable_baselines3 import PPO, A2C\n",
    "env = envs.MinesweeperEnvBeginner()\n",
    "model = PPO.load('ms_beginner_ppo1', env=env)"
   ]
  },
  {
   "cell_type": "code",
   "execution_count": 35,
   "id": "ca70307b-b7e3-4ab2-8fcc-216d86167549",
   "metadata": {},
   "outputs": [
    {
     "name": "stdout",
     "output_type": "stream",
     "text": [
      "[[0. 0. 0. 0. 0. 0. 0. 0.]\n",
      " [1. 1. 2. 1. 1. 0. 0. 0.]\n",
      " [1. 9. 3. 9. 3. 2. 1. 0.]\n",
      " [1. 2. 9. 4. 9. 9. 2. 0.]\n",
      " [0. 1. 3. 9. 5. 9. 3. 0.]\n",
      " [0. 0. 2. 9. 3. 1. 3. 9.]\n",
      " [0. 0. 1. 1. 1. 0. 2. 9.]\n",
      " [0. 0. 0. 0. 0. 0. 0. 0.]]\n",
      "attempt 6\n",
      "reward -100\n",
      "total reward -60\n",
      "{'attempt': 6, 'remaining': 1.0, 'revealed': 53.0, 'hit': 'bomb'} True\n",
      "9\n",
      "[[0. 0. 0. 0. 0. 0. 0. 0.]\n",
      " [1. 1. 2. 1. 1. 0. 0. 0.]\n",
      " [1. 9. 3. 9. 3. 2. 1. 0.]\n",
      " [1. 2. 9. 4. 9. 9. 2. 0.]\n",
      " [0. 1. 3. 9. 9. 9. 3. 0.]\n",
      " [0. 0. 2. 9. 3. 1. 3. 9.]\n",
      " [0. 0. 1. 1. 1. 0. 2. 9.]\n",
      " [0. 0. 0. 0. 0. 0. 0. 0.]]\n"
     ]
    }
   ],
   "source": [
    "observation = env.reset()\n",
    "done = False\n",
    "rew = 0\n",
    "action, _state = model.predict(observation, deterministic=False)\n",
    "observation, reward, done, info = env.step(action)\n",
    "print(env.observation[1:-1,1:-1])\n",
    "\n",
    "while not done:\n",
    "    action, _state = model.predict(observation, deterministic=False)\n",
    "    observation, reward, done, info = env.step(action)\n",
    "    # env.print_render()\n",
    "    # print(action, reward, (~env.display[1:-1,1:-1].astype(bool)).sum(), env.bombs)\n",
    "    rew += reward\n",
    "print('attempt', env.attempt)\n",
    "print('reward', reward)\n",
    "print('total reward', rew)\n",
    "print(info, done)\n",
    "print((~env.display[1:-1,1:-1].astype(bool)).sum())\n",
    "env.print_render()\n"
   ]
  },
  {
   "cell_type": "code",
   "execution_count": 37,
   "id": "2dab6df1-18e6-4779-86a3-ad555fcadb09",
   "metadata": {},
   "outputs": [
    {
     "name": "stdout",
     "output_type": "stream",
     "text": [
      "average wins: 0.44\n",
      "average attempts: 26.35\n",
      "average remaining: 2.94\n",
      "CPU times: user 3.14 s, sys: 7.22 ms, total: 3.14 s\n",
      "Wall time: 3.15 s\n"
     ]
    }
   ],
   "source": [
    "%%time\n",
    "remainings = []\n",
    "attempts = []\n",
    "wins = []\n",
    "for _ in range(100):\n",
    "    observation = env.reset()\n",
    "    done = False\n",
    "    while not done:\n",
    "        action, _state = model.predict(observation, deterministic=True)\n",
    "        # print(env._translate_action(action))\n",
    "        # env.print_render()\n",
    "        observation, reward, done, info = env.step(action)\n",
    "    attempts.append(info[\"attempt\"])\n",
    "    remainings.append(info[\"remaining\"])\n",
    "    wins.append(info[\"remaining\"] == 0)\n",
    "print(f'average wins: {np.mean(wins)}')\n",
    "print(f'average attempts: {np.mean(attempts)}')\n",
    "print(f'average remaining: {np.mean(remainings)}')"
   ]
  },
  {
   "cell_type": "code",
   "execution_count": 41,
   "id": "46762682-65ea-4e53-a31c-b30a1014531c",
   "metadata": {},
   "outputs": [],
   "source": [
    "from stable_baselines3 import PPO, A2C\n",
    "env = envs.MinesweeperEnvBeginner()\n",
    "model = PPO.load('ms_beginner_ppo2', env=env)"
   ]
  },
  {
   "cell_type": "code",
   "execution_count": 42,
   "id": "a53ec2db-1f9a-48ff-8e1a-883267232af3",
   "metadata": {},
   "outputs": [
    {
     "name": "stdout",
     "output_type": "stream",
     "text": [
      "[[1. 1. 1. 0. 1. 1. 1. 0.]\n",
      " [1. 9. 2. 1. 2. 9. 1. 0.]\n",
      " [1. 1. 2. 9. 3. 3. 4. 0.]\n",
      " [1. 1. 2. 1. 2. 9. 9. 9.]\n",
      " [1. 9. 1. 0. 1. 2. 3. 0.]\n",
      " [2. 2. 3. 1. 1. 0. 0. 0.]\n",
      " [1. 9. 3. 9. 1. 0. 0. 0.]\n",
      " [0. 0. 9. 0. 0. 0. 0. 0.]]\n",
      "attempt 23\n",
      "reward 10\n",
      "total reward 220\n",
      "{'attempt': 23, 'remaining': 0.0, 'revealed': 54.0, 'hit': 'safe'} True\n",
      "5\n",
      "[[1. 1. 1. 0. 1. 1. 1. 0.]\n",
      " [1. 9. 2. 1. 2. 9. 1. 0.]\n",
      " [1. 1. 2. 9. 3. 3. 4. 0.]\n",
      " [1. 1. 2. 1. 2. 9. 9. 9.]\n",
      " [1. 9. 1. 0. 1. 2. 3. 0.]\n",
      " [2. 2. 3. 1. 1. 0. 0. 0.]\n",
      " [1. 9. 3. 9. 1. 0. 0. 0.]\n",
      " [0. 0. 9. 0. 0. 0. 0. 0.]]\n"
     ]
    }
   ],
   "source": [
    "observation = env.reset()\n",
    "done = False\n",
    "rew = 0\n",
    "action, _state = model.predict(observation, deterministic=False)\n",
    "observation, reward, done, info = env.step(action)\n",
    "print(env.observation[1:-1,1:-1])\n",
    "\n",
    "while not done:\n",
    "    action, _state = model.predict(observation, deterministic=False)\n",
    "    observation, reward, done, info = env.step(action)\n",
    "    # env.print_render()\n",
    "    # print(action, reward, (~env.display[1:-1,1:-1].astype(bool)).sum(), env.bombs)\n",
    "    rew += reward\n",
    "print('attempt', env.attempt)\n",
    "print('reward', reward)\n",
    "print('total reward', rew)\n",
    "print(info, done)\n",
    "print((~env.display[1:-1,1:-1].astype(bool)).sum())\n",
    "env.print_render()\n"
   ]
  },
  {
   "cell_type": "code",
   "execution_count": 43,
   "id": "a8c842e9-6c0b-462a-a619-bf11aaab542b",
   "metadata": {},
   "outputs": [
    {
     "name": "stdout",
     "output_type": "stream",
     "text": [
      "average wins: 0.6\n",
      "average attempts: 21.99\n",
      "average remaining: 2.47\n",
      "CPU times: user 2.58 s, sys: 5.44 ms, total: 2.58 s\n",
      "Wall time: 2.59 s\n"
     ]
    }
   ],
   "source": [
    "%%time\n",
    "remainings = []\n",
    "attempts = []\n",
    "wins = []\n",
    "for _ in range(100):\n",
    "    observation = env.reset()\n",
    "    done = False\n",
    "    while not done:\n",
    "        action, _state = model.predict(observation, deterministic=True)\n",
    "        # print(env._translate_action(action))\n",
    "        # env.print_render()\n",
    "        observation, reward, done, info = env.step(action)\n",
    "    attempts.append(info[\"attempt\"])\n",
    "    remainings.append(info[\"remaining\"])\n",
    "    wins.append(info[\"remaining\"] == 0)\n",
    "print(f'average wins: {np.mean(wins)}')\n",
    "print(f'average attempts: {np.mean(attempts)}')\n",
    "print(f'average remaining: {np.mean(remainings)}')"
   ]
  },
  {
   "cell_type": "code",
   "execution_count": 45,
   "id": "e83e165a-3d8b-4288-aa77-4bcf88ea4cd8",
   "metadata": {},
   "outputs": [],
   "source": [
    "coords = [(i, j) for i in range(9) for j in range(9)]"
   ]
  },
  {
   "cell_type": "code",
   "execution_count": 46,
   "id": "3532458a-6df3-4034-ac35-151c38eb4b7a",
   "metadata": {},
   "outputs": [],
   "source": [
    "np.random.shuffle(pairs) "
   ]
  },
  {
   "cell_type": "code",
   "execution_count": 50,
   "id": "515670f0-9578-4f91-b457-e8598f1a6f7c",
   "metadata": {},
   "outputs": [
    {
     "data": {
      "text/plain": [
       "2"
      ]
     },
     "execution_count": 50,
     "metadata": {},
     "output_type": "execute_result"
    }
   ],
   "source": [
    "2%81"
   ]
  },
  {
   "cell_type": "code",
   "execution_count": 47,
   "id": "337a8754-04e4-4b8d-aec7-ff02902eaa23",
   "metadata": {},
   "outputs": [
    {
     "data": {
      "text/plain": [
       "[(8, 7),\n",
       " (6, 3),\n",
       " (4, 2),\n",
       " (5, 0),\n",
       " (4, 4),\n",
       " (1, 2),\n",
       " (5, 6),\n",
       " (5, 1),\n",
       " (1, 4),\n",
       " (6, 7),\n",
       " (4, 6),\n",
       " (3, 7),\n",
       " (6, 1),\n",
       " (0, 6),\n",
       " (4, 8),\n",
       " (7, 6),\n",
       " (8, 8),\n",
       " (5, 7),\n",
       " (2, 6),\n",
       " (1, 5),\n",
       " (7, 8),\n",
       " (7, 7),\n",
       " (0, 1),\n",
       " (6, 8),\n",
       " (3, 0),\n",
       " (1, 6),\n",
       " (8, 6),\n",
       " (7, 4),\n",
       " (7, 3),\n",
       " (4, 1),\n",
       " (2, 4),\n",
       " (1, 8),\n",
       " (0, 5),\n",
       " (3, 1),\n",
       " (6, 0),\n",
       " (4, 3),\n",
       " (3, 8),\n",
       " (8, 2),\n",
       " (2, 2),\n",
       " (3, 5),\n",
       " (1, 3),\n",
       " (2, 7),\n",
       " (0, 2),\n",
       " (2, 3),\n",
       " (3, 3),\n",
       " (2, 8),\n",
       " (0, 4),\n",
       " (3, 2),\n",
       " (4, 0),\n",
       " (8, 5),\n",
       " (5, 8),\n",
       " (0, 8),\n",
       " (7, 1),\n",
       " (0, 0),\n",
       " (4, 5),\n",
       " (0, 7),\n",
       " (5, 2),\n",
       " (3, 6),\n",
       " (1, 0),\n",
       " (8, 1),\n",
       " (5, 4),\n",
       " (5, 5),\n",
       " (0, 3),\n",
       " (4, 7),\n",
       " (8, 0),\n",
       " (6, 5),\n",
       " (7, 0),\n",
       " (2, 0),\n",
       " (5, 3),\n",
       " (2, 1),\n",
       " (6, 4),\n",
       " (7, 5),\n",
       " (7, 2),\n",
       " (1, 7),\n",
       " (3, 4),\n",
       " (6, 2),\n",
       " (8, 4),\n",
       " (1, 1),\n",
       " (2, 5),\n",
       " (6, 6),\n",
       " (8, 3)]"
      ]
     },
     "execution_count": 47,
     "metadata": {},
     "output_type": "execute_result"
    }
   ],
   "source": [
    "pairs"
   ]
  },
  {
   "cell_type": "code",
   "execution_count": null,
   "id": "db122b92-4e3c-4c9a-a1ab-78948493fd60",
   "metadata": {},
   "outputs": [],
   "source": []
  }
 ],
 "metadata": {
  "kernelspec": {
   "display_name": "Python 3 (ipykernel)",
   "language": "python",
   "name": "python3"
  },
  "language_info": {
   "codemirror_mode": {
    "name": "ipython",
    "version": 3
   },
   "file_extension": ".py",
   "mimetype": "text/x-python",
   "name": "python",
   "nbconvert_exporter": "python",
   "pygments_lexer": "ipython3",
   "version": "3.7.9"
  },
  "vscode": {
   "interpreter": {
    "hash": "e17cfc89ef70aefe0575981488445c37b4ad54873ac1467bcfea8c7f0f258056"
   }
  }
 },
 "nbformat": 4,
 "nbformat_minor": 5
}
