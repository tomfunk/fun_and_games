{
 "cells": [
  {
   "cell_type": "code",
   "execution_count": 15,
   "id": "37474969-e894-45b5-beb8-62fc522afb2e",
   "metadata": {},
   "outputs": [],
   "source": [
    "import envs\n",
    "# import agents\n",
    "# import random\n",
    "import numpy as np"
   ]
  },
  {
   "cell_type": "code",
   "execution_count": 16,
   "id": "e4006015-1673-4071-83bd-a8c4d1e5df00",
   "metadata": {},
   "outputs": [],
   "source": [
    "env = envs.SudokuEnv1(flatten=False)"
   ]
  },
  {
   "cell_type": "code",
   "execution_count": 17,
   "id": "aa423276-75b3-454c-b9d0-a316f9f4b44b",
   "metadata": {},
   "outputs": [
    {
     "data": {
      "text/plain": [
       "array([[[1, 7, 2, 9, 3, 4, 0, 5, 0],\n",
       "        [0, 0, 0, 6, 0, 0, 0, 7, 3],\n",
       "        [0, 0, 3, 7, 8, 0, 0, 0, 1],\n",
       "        [7, 0, 5, 0, 0, 8, 0, 4, 0],\n",
       "        [3, 4, 0, 0, 9, 0, 6, 8, 5],\n",
       "        [0, 0, 6, 5, 0, 0, 0, 9, 0],\n",
       "        [6, 0, 7, 0, 5, 9, 0, 1, 8],\n",
       "        [0, 2, 8, 0, 7, 3, 0, 6, 0],\n",
       "        [5, 1, 9, 8, 0, 0, 0, 3, 4]],\n",
       "\n",
       "       [[1, 1, 1, 1, 1, 1, 0, 1, 0],\n",
       "        [0, 0, 0, 1, 0, 0, 0, 1, 1],\n",
       "        [0, 0, 1, 1, 1, 0, 0, 0, 1],\n",
       "        [1, 0, 1, 0, 0, 1, 0, 1, 0],\n",
       "        [1, 1, 0, 0, 1, 0, 1, 1, 1],\n",
       "        [0, 0, 1, 1, 0, 0, 0, 1, 0],\n",
       "        [1, 0, 1, 0, 1, 1, 0, 1, 1],\n",
       "        [0, 1, 1, 0, 1, 1, 0, 1, 0],\n",
       "        [1, 1, 1, 1, 0, 0, 0, 1, 1]]])"
      ]
     },
     "execution_count": 17,
     "metadata": {},
     "output_type": "execute_result"
    }
   ],
   "source": [
    "env.reset()"
   ]
  },
  {
   "cell_type": "code",
   "execution_count": 4,
   "id": "58a42793-b4c2-42dc-8212-6ad9213e3735",
   "metadata": {},
   "outputs": [
    {
     "data": {
      "text/plain": [
       "38"
      ]
     },
     "execution_count": 4,
     "metadata": {},
     "output_type": "execute_result"
    }
   ],
   "source": [
    "len(env.pairs)"
   ]
  },
  {
   "cell_type": "code",
   "execution_count": 5,
   "id": "f5b82066-b3b2-4fcd-b983-ce83df83cecb",
   "metadata": {},
   "outputs": [
    {
     "data": {
      "text/plain": [
       "38"
      ]
     },
     "execution_count": 5,
     "metadata": {},
     "output_type": "execute_result"
    }
   ],
   "source": [
    "(env.start == 0).sum()"
   ]
  },
  {
   "cell_type": "code",
   "execution_count": 6,
   "id": "befb887e-811b-4485-bc75-29f0bdf7a801",
   "metadata": {},
   "outputs": [
    {
     "data": {
      "text/plain": [
       "array([[2, 8, 4, 3, 9, 7, 1, 6, 5],\n",
       "       [3, 9, 1, 4, 6, 5, 8, 7, 2],\n",
       "       [7, 5, 6, 2, 8, 1, 9, 4, 3],\n",
       "       [8, 2, 9, 7, 1, 3, 4, 5, 6],\n",
       "       [5, 4, 3, 8, 2, 6, 7, 1, 9],\n",
       "       [6, 1, 7, 9, 5, 4, 2, 3, 8],\n",
       "       [4, 7, 2, 6, 3, 8, 5, 9, 1],\n",
       "       [1, 3, 8, 5, 4, 9, 6, 2, 7],\n",
       "       [9, 6, 5, 1, 7, 2, 3, 8, 4]])"
      ]
     },
     "execution_count": 6,
     "metadata": {},
     "output_type": "execute_result"
    }
   ],
   "source": [
    "env.solution"
   ]
  },
  {
   "cell_type": "code",
   "execution_count": 10,
   "id": "516bdeb7-854c-4e03-8a0c-e568a5f334c8",
   "metadata": {},
   "outputs": [
    {
     "data": {
      "text/plain": [
       "(array([[[4., 3., 9., 6., 5., 8., 1., 2., 7.],\n",
       "         [1., 7., 8., 3., 2., 4., 6., 5., 9.],\n",
       "         [5., 6., 2., 9., 7., 1., 4., 3., 8.],\n",
       "         [6., 1., 3., 8., 9., 2., 7., 4., 5.],\n",
       "         [8., 4., 5., 7., 1., 6., 3., 9., 2.],\n",
       "         [2., 9., 7., 5., 4., 3., 8., 6., 1.],\n",
       "         [9., 8., 4., 2., 6., 7., 5., 1., 3.],\n",
       "         [3., 5., 6., 1., 8., 9., 2., 7., 4.],\n",
       "         [7., 2., 1., 4., 3., 5., 9., 8., 6.]],\n",
       " \n",
       "        [[1., 0., 1., 0., 0., 0., 0., 1., 1.],\n",
       "         [0., 0., 1., 1., 0., 1., 0., 0., 1.],\n",
       "         [1., 1., 0., 0., 1., 1., 1., 0., 1.],\n",
       "         [1., 1., 1., 1., 1., 1., 0., 0., 0.],\n",
       "         [1., 1., 0., 1., 0., 0., 0., 0., 1.],\n",
       "         [0., 0., 1., 1., 1., 1., 0., 1., 0.],\n",
       "         [0., 0., 0., 1., 1., 0., 0., 0., 0.],\n",
       "         [1., 0., 0., 0., 0., 0., 0., 0., 1.],\n",
       "         [0., 1., 0., 0., 1., 0., 0., 0., 1.]],\n",
       " \n",
       "        [[0., 0., 0., 0., 0., 0., 0., 0., 0.],\n",
       "         [0., 0., 0., 0., 0., 0., 0., 0., 0.],\n",
       "         [0., 0., 0., 0., 0., 0., 0., 0., 0.],\n",
       "         [0., 0., 0., 0., 0., 0., 0., 0., 0.],\n",
       "         [0., 0., 0., 0., 0., 0., 0., 0., 0.],\n",
       "         [0., 0., 0., 0., 0., 0., 0., 0., 0.],\n",
       "         [0., 1., 0., 0., 0., 0., 0., 0., 0.],\n",
       "         [0., 0., 0., 0., 0., 0., 0., 0., 0.],\n",
       "         [0., 0., 0., 0., 0., 0., 0., 0., 0.]]]),\n",
       " 1000,\n",
       " True,\n",
       " {'attempt': 46, 'square_coord': (6, 1)})"
      ]
     },
     "execution_count": 10,
     "metadata": {},
     "output_type": "execute_result"
    }
   ],
   "source": [
    "done = False\n",
    "observation = env.reset()\n",
    "while not done:\n",
    "    observation, reward, done, info = env.step(env.solution[env.current_square_coord])\n",
    "observation, reward, done, info"
   ]
  },
  {
   "cell_type": "code",
   "execution_count": 14,
   "id": "30bf3658-24c1-49ca-9a94-82fdf897a845",
   "metadata": {},
   "outputs": [
    {
     "data": {
      "text/plain": [
       "45"
      ]
     },
     "execution_count": 14,
     "metadata": {},
     "output_type": "execute_result"
    }
   ],
   "source": [
    "(env.start == 0).sum()"
   ]
  },
  {
   "cell_type": "code",
   "execution_count": 12,
   "id": "1bfb11f1-71a9-445b-a754-0b904edc80b3",
   "metadata": {},
   "outputs": [
    {
     "data": {
      "text/plain": [
       "45"
      ]
     },
     "execution_count": 12,
     "metadata": {},
     "output_type": "execute_result"
    }
   ],
   "source": [
    "len(env.pairs)"
   ]
  },
  {
   "cell_type": "code",
   "execution_count": 19,
   "id": "42c7c0b6-0c7a-4917-b857-481afa5ab07e",
   "metadata": {},
   "outputs": [
    {
     "data": {
      "text/plain": [
       "array([[[6., 7., 5., 8., 3., 4., 1., 9., 2.],\n",
       "        [4., 1., 9., 6., 2., 5., 3., 8., 7.],\n",
       "        [8., 3., 2., 7., 9., 1., 4., 6., 5.],\n",
       "        [2., 5., 1., 9., 6., 8., 7., 4., 3.],\n",
       "        [3., 9., 4., 1., 7., 2., 6., 5., 8.],\n",
       "        [7., 8., 6., 5., 4., 3., 9., 2., 1.],\n",
       "        [5., 4., 7., 3., 8., 9., 2., 1., 6.],\n",
       "        [1., 2., 3., 4., 5., 6., 8., 7., 9.],\n",
       "        [9., 6., 8., 2., 1., 7., 5., 3., 4.]],\n",
       "\n",
       "       [[0., 1., 1., 1., 1., 0., 0., 0., 1.],\n",
       "        [0., 1., 1., 1., 1., 1., 1., 0., 0.],\n",
       "        [1., 0., 1., 0., 0., 0., 1., 1., 1.],\n",
       "        [0., 0., 1., 1., 0., 0., 0., 0., 0.],\n",
       "        [0., 1., 1., 1., 0., 0., 1., 0., 0.],\n",
       "        [1., 1., 1., 0., 0., 1., 1., 0., 1.],\n",
       "        [1., 0., 1., 0., 0., 0., 0., 0., 0.],\n",
       "        [1., 0., 1., 1., 0., 1., 0., 1., 0.],\n",
       "        [0., 1., 1., 0., 1., 0., 1., 0., 0.]],\n",
       "\n",
       "       [[0., 0., 0., 0., 0., 0., 0., 0., 0.],\n",
       "        [0., 0., 0., 0., 0., 0., 0., 0., 0.],\n",
       "        [0., 0., 0., 0., 0., 0., 0., 0., 0.],\n",
       "        [1., 0., 0., 0., 0., 0., 0., 0., 0.],\n",
       "        [0., 0., 0., 0., 0., 0., 0., 0., 0.],\n",
       "        [0., 0., 0., 0., 0., 0., 0., 0., 0.],\n",
       "        [0., 0., 0., 0., 0., 0., 0., 0., 0.],\n",
       "        [0., 0., 0., 0., 0., 0., 0., 0., 0.],\n",
       "        [0., 0., 0., 0., 0., 0., 0., 0., 0.]]])"
      ]
     },
     "execution_count": 19,
     "metadata": {},
     "output_type": "execute_result"
    }
   ],
   "source": [
    "observation"
   ]
  },
  {
   "cell_type": "code",
   "execution_count": 10,
   "id": "3039af12-099b-48fb-b5f6-dfc74a033053",
   "metadata": {},
   "outputs": [],
   "source": [
    "from stable_baselines3 import PPO, A2C\n",
    "env = envs.MinesweeperEnvBaby()\n",
    "model = PPO.load('ms_ppo0', env=env)"
   ]
  },
  {
   "cell_type": "code",
   "execution_count": 31,
   "id": "089bf0ef-0bd6-48c0-af27-e9d4e5319f62",
   "metadata": {},
   "outputs": [
    {
     "name": "stdout",
     "output_type": "stream",
     "text": [
      "[[1. 1. 2. 1. 0.]\n",
      " [1. 9. 2. 9. 0.]\n",
      " [2. 2. 3. 1. 0.]\n",
      " [2. 9. 2. 0. 0.]\n",
      " [0. 9. 0. 0. 0.]]\n",
      "attempt 25\n",
      "reward -1\n",
      "total reward 44\n",
      "{'attempt': 25, 'remaining': 2.0, 'revealed': 19.0, 'hit': 'uncovered'} True\n",
      "3\n",
      "[[1. 9. 2. 1. 0.]\n",
      " [1. 9. 2. 9. 0.]\n",
      " [2. 9. 3. 1. 0.]\n",
      " [2. 9. 2. 0. 0.]\n",
      " [0. 9. 0. 0. 0.]]\n"
     ]
    }
   ],
   "source": [
    "observation = env.reset()\n",
    "done = False\n",
    "rew = 0\n",
    "action, _state = model.predict(observation, deterministic=False)\n",
    "observation, reward, done, info = env.step(action)\n",
    "print(env.observation[1:-1,1:-1])\n",
    "\n",
    "while not done:\n",
    "    action, _state = model.predict(observation, deterministic=False)\n",
    "    observation, reward, done, info = env.step(action)\n",
    "    # env.print_render()\n",
    "    # print(action, reward, (~env.display[1:-1,1:-1].astype(bool)).sum(), env.bombs)\n",
    "    rew += reward\n",
    "print('attempt', env.attempt)\n",
    "print('reward', reward)\n",
    "print('total reward', rew)\n",
    "print(info, done)\n",
    "print((~env.display[1:-1,1:-1].astype(bool)).sum())\n",
    "env.print_render()\n"
   ]
  },
  {
   "cell_type": "code",
   "execution_count": 12,
   "id": "cef5a066-f09b-4614-8cbf-ccb1bea32a5f",
   "metadata": {},
   "outputs": [
    {
     "name": "stdout",
     "output_type": "stream",
     "text": [
      "average wins: 0.85\n",
      "average attempts: 11.14\n",
      "average remaining: 0.18\n",
      "CPU times: user 717 ms, sys: 5.36 ms, total: 722 ms\n",
      "Wall time: 730 ms\n"
     ]
    }
   ],
   "source": [
    "%%time\n",
    "remainings = []\n",
    "attempts = []\n",
    "wins = []\n",
    "for _ in range(100):\n",
    "    observation = env.reset()\n",
    "    done = False\n",
    "    while not done:\n",
    "        action, _state = model.predict(observation, deterministic=True)\n",
    "        # print(env._translate_action(action))\n",
    "        # env.print_render()\n",
    "        observation, reward, done, info = env.step(action)\n",
    "    attempts.append(info[\"attempt\"])\n",
    "    remainings.append(info[\"remaining\"])\n",
    "    wins.append(info[\"remaining\"] == 0)\n",
    "print(f'average wins: {np.mean(wins)}')\n",
    "print(f'average attempts: {np.mean(attempts)}')\n",
    "print(f'average remaining: {np.mean(remainings)}')"
   ]
  },
  {
   "cell_type": "markdown",
   "id": "a0b79c87-e22d-41ae-85d4-e7f12fb89bd7",
   "metadata": {
    "tags": []
   },
   "source": [
    "# Very Easy"
   ]
  },
  {
   "cell_type": "code",
   "execution_count": 24,
   "id": "4301bb83-2d4e-43ee-8890-75d7009f75c4",
   "metadata": {},
   "outputs": [],
   "source": [
    "from stable_baselines3 import PPO, A2C\n",
    "env = envs.SudokuEnv1.create_very_easy()\n",
    "model = PPO.load('su1_ppo', env=env)"
   ]
  },
  {
   "cell_type": "code",
   "execution_count": 28,
   "id": "ca70307b-b7e3-4ab2-8fcc-216d86167549",
   "metadata": {},
   "outputs": [
    {
     "name": "stdout",
     "output_type": "stream",
     "text": [
      "attempt 100\n",
      "reward -10\n",
      "total reward -1040\n",
      "{'attempt': 100} True\n",
      "\n",
      "attempt 100\n",
      " \u001b[4m2\u001b[0m \u001b[4m5\u001b[0m \u001b[4m3\u001b[0m | \u001b[4m8\u001b[0m \u001b[4m4\u001b[0m \u001b[4m7\u001b[0m | \u001b[4m6\u001b[0m \u001b[4m1\u001b[0m \u001b[4m9\u001b[0m \n",
      " \u001b[4m1\u001b[0m \u001b[4m7\u001b[0m \u001b[4m9\u001b[0m | \u001b[4m3\u001b[0m \u001b[4m5\u001b[0m \u001b[4m6\u001b[0m | \u001b[4m4\u001b[0m \u001b[4m2\u001b[0m \u001b[4m8\u001b[0m \n",
      " \u001b[4m8\u001b[0m \u001b[4m4\u001b[0m 3 | 5 \u001b[4m9\u001b[0m \u001b[4m2\u001b[0m | \u001b[4m5\u001b[0m \u001b[4m7\u001b[0m \u001b[4m3\u001b[0m \n",
      "-------+-------+-------\n",
      " \u001b[4m9\u001b[0m \u001b[4m6\u001b[0m \u001b[4m8\u001b[0m | \u001b[4m2\u001b[0m \u001b[4m7\u001b[0m \u001b[4m5\u001b[0m | \u001b[4m3\u001b[0m \u001b[4m4\u001b[0m \u001b[4m1\u001b[0m \n",
      " \u001b[4m4\u001b[0m \u001b[4m3\u001b[0m \u001b[4m2\u001b[0m | \u001b[4m9\u001b[0m \u001b[4m1\u001b[0m \u001b[4m8\u001b[0m | \u001b[4m7\u001b[0m \u001b[4m6\u001b[0m \u001b[4m5\u001b[0m \n",
      " \u001b[4m7\u001b[0m 3 \u001b[4m5\u001b[0m | \u001b[4m4\u001b[0m \u001b[4m6\u001b[0m \u001b[4m3\u001b[0m | 9 \u001b[4m9\u001b[0m \u001b[4m2\u001b[0m \n",
      "-------+-------+-------\n",
      " \u001b[4m5\u001b[0m \u001b[4m2\u001b[0m \u001b[4m4\u001b[0m | \u001b[4m6\u001b[0m \u001b[4m3\u001b[0m \u001b[4m9\u001b[0m | 3 \u001b[4m8\u001b[0m \u001b[4m7\u001b[0m \n",
      " \u001b[4m3\u001b[0m \u001b[4m8\u001b[0m 3 | \u001b[4m7\u001b[0m \u001b[4m2\u001b[0m \u001b[4m4\u001b[0m | \u001b[4m9\u001b[0m \u001b[4m5\u001b[0m \u001b[4m6\u001b[0m \n",
      " \u001b[4m6\u001b[0m \u001b[4m9\u001b[0m \u001b[4m7\u001b[0m | \u001b[4m5\u001b[0m \u001b[4m8\u001b[0m \u001b[4m1\u001b[0m | \u001b[4m2\u001b[0m \u001b[4m3\u001b[0m \u001b[4m4\u001b[0m \n"
     ]
    }
   ],
   "source": [
    "observation = env.reset()\n",
    "done = False\n",
    "rew = 0\n",
    "action, _state = model.predict(observation, deterministic=False)\n",
    "observation, reward, done, info = env.step(action)\n",
    "\n",
    "while not done:\n",
    "    action, _state = model.predict(observation, deterministic=False)\n",
    "    observation, reward, done, info = env.step(action)\n",
    "    # env.print_render()\n",
    "    # print(action, reward, (~env.display[1:-1,1:-1].astype(bool)).sum(), env.bombs)\n",
    "    rew += reward\n",
    "print('attempt', env.attempt)\n",
    "print('reward', reward)\n",
    "print('total reward', rew)\n",
    "print(info, done)\n",
    "# print((~env.display[1:-1,1:-1].astype(bool)).sum())\n",
    "env.print_render()\n"
   ]
  },
  {
   "cell_type": "code",
   "execution_count": 29,
   "id": "2dab6df1-18e6-4779-86a3-ad555fcadb09",
   "metadata": {},
   "outputs": [
    {
     "ename": "KeyError",
     "evalue": "'remaining'",
     "output_type": "error",
     "traceback": [
      "\u001b[0;31m---------------------------------------------------------------------------\u001b[0m",
      "\u001b[0;31mKeyError\u001b[0m                                  Traceback (most recent call last)",
      "\u001b[0;32m<timed exec>\u001b[0m in \u001b[0;36m<module>\u001b[0;34m\u001b[0m\n",
      "\u001b[0;31mKeyError\u001b[0m: 'remaining'"
     ]
    }
   ],
   "source": [
    "%%time\n",
    "remainings = []\n",
    "attempts = []\n",
    "wins = []\n",
    "for _ in range(100):\n",
    "    observation = env.reset()\n",
    "    done = False\n",
    "    while not done:\n",
    "        action, _state = model.predict(observation, deterministic=True)\n",
    "        # print(env._translate_action(action))\n",
    "        # env.print_render()\n",
    "        observation, reward, done, info = env.step(action)\n",
    "    attempts.append(info[\"attempt\"])\n",
    "print(f'average attempts: {np.mean(attempts)}')\n"
   ]
  },
  {
   "cell_type": "code",
   "execution_count": null,
   "id": "db122b92-4e3c-4c9a-a1ab-78948493fd60",
   "metadata": {},
   "outputs": [],
   "source": []
  }
 ],
 "metadata": {
  "kernelspec": {
   "display_name": "Python 3 (ipykernel)",
   "language": "python",
   "name": "python3"
  },
  "language_info": {
   "codemirror_mode": {
    "name": "ipython",
    "version": 3
   },
   "file_extension": ".py",
   "mimetype": "text/x-python",
   "name": "python",
   "nbconvert_exporter": "python",
   "pygments_lexer": "ipython3",
   "version": "3.7.9"
  },
  "vscode": {
   "interpreter": {
    "hash": "e17cfc89ef70aefe0575981488445c37b4ad54873ac1467bcfea8c7f0f258056"
   }
  }
 },
 "nbformat": 4,
 "nbformat_minor": 5
}
